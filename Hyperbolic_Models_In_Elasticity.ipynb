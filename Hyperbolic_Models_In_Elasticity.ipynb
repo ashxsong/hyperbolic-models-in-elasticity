{
 "cells": [
  {
   "cell_type": "code",
   "execution_count": 1,
   "id": "41150d1c",
   "metadata": {},
   "outputs": [],
   "source": [
    "import numpy as np\n",
    "import matplotlib.pyplot as plt\n",
    "from IPython.display import clear_output"
   ]
  },
  {
   "cell_type": "code",
   "execution_count": 2,
   "id": "a8a9a378",
   "metadata": {},
   "outputs": [],
   "source": [
    "def step(u_ns, v_ns, tau, N, a, b, c, c_stable = 0):\n",
    "    '''\n",
    "    Computes one iteration of the forward Euler time-stepping scheme for the 1D wave equation with(out) a\n",
    "    stabilization term as a system of first-order PDEs.\n",
    "    \n",
    "    inputs:\n",
    "        -  u_ns: a list of scalars representing the approximate solution to u for the n-th snapshot time\n",
    "        -  v_ns: a list of scalars representing the approximate solution to v for the n-th snapshot time\n",
    "        -  tau: a positive real number representing the time step size\n",
    "        -  N: a positive integer representing the division of the domain into subintervals\n",
    "        -  a: a scalar representing the left endpoint of the domain\n",
    "        -  b: a scalar representing the right endpoint of the domain\n",
    "        -  c: a scalar representing the wave speed\n",
    "        -  c_stable: a real number between 1 and 32 used in the stabilization term\n",
    "    \n",
    "    returns:\n",
    "        -  a list of scalars representing the approximate solution to u for the (n + 1)-th snapshot time\n",
    "        -  a list of scalars representing the approximate solution to v for the (n + 1)-th snapshot time\n",
    "    '''\n",
    "    # discretization\n",
    "    h = (b - a) / (N + 1)\n",
    "    xs = [a + i * h for i in range(N + 2)]\n",
    "    \n",
    "    # approximate solutions for the n-th snapshot time\n",
    "    u_ns_copy = u_ns.copy()\n",
    "    v_ns_copy = v_ns.copy()\n",
    "    \n",
    "    # approximate solutions for the (n + 1)-th snapshot time\n",
    "    u_np1s = np.zeros(N + 2)\n",
    "    v_np1s = np.zeros(N + 2)\n",
    "    \n",
    "    # advance in time\n",
    "    for i in range(1, N + 1):\n",
    "        u_np1s[i] = (u_ns_copy[i] - (tau / (2 * h)) * (v_ns_copy[i + 1] - v_ns_copy[i - 1]) \n",
    "                     + tau * c_stable * (u_ns_copy[i + 1] - 2 * u_ns_copy[i] + u_ns_copy[i - 1]))\n",
    "        v_np1s[i] = (v_ns_copy[i] - ((tau * (c ** 2)) / (2 * h)) * (u_ns_copy[i + 1] - u_ns_copy[i - 1]) \n",
    "                     + tau * c_stable * (v_ns_copy[i + 1] - 2 * v_ns_copy[i] + v_ns_copy[i - 1]))\n",
    "    u_np1s[0] = u_ns_copy[0] - (tau / h) * (v_ns_copy[1] - v_ns_copy[0])\n",
    "    v_np1s[0] = v_ns_copy[0] - ((tau * (c ** 2)) / h) * (u_ns_copy[1] - u_ns_copy[0])\n",
    "    u_np1s[-1] = u_ns_copy[-1] - (tau / h) * (v_ns_copy[-1] - v_ns_copy[N])\n",
    "    v_np1s[-1] = v_ns_copy[-1] - ((tau * (c ** 2)) / h) * (u_ns_copy[-1] - u_ns_copy[N])\n",
    "    \n",
    "    return u_np1s, v_np1s"
   ]
  },
  {
   "cell_type": "code",
   "execution_count": 3,
   "id": "15b2a876",
   "metadata": {},
   "outputs": [],
   "source": [
    "def solve(u0, v0, tau, T, N, a, b, c, c_stable = 0, reflecting = False):\n",
    "    '''\n",
    "    Solves the 1D wave equation with(out) a stabilization term as a system of first-order PDEs using the\n",
    "    forward Euler time-stepping scheme with central differences for the interior and one-sided differences\n",
    "    for the endpoints.\n",
    "    \n",
    "    inputs:\n",
    "        -  u0: a function that maps from the domain to the real numbers representing the initial condition for u\n",
    "        -  v0: a function that maps from the domain to the real numbers representing the initial condition for v\n",
    "        -  tau: a positive real number representing the time step size\n",
    "        -  T: a positive real number representing the final time\n",
    "        -  N: a positive integer representing the division of the domain into subintervals\n",
    "        -  a: a scalar representing the left endpoint of the domain\n",
    "        -  b: a scalar representing the right endpoint of the domain\n",
    "        -  c: a scalar representing the wave speed\n",
    "        -  c_stable: a real number between 1 and 32 used in the stabilization term\n",
    "        -  reflecting: a Boolean representing the inclusion/exclusion of reflecting boundaries\n",
    "    \n",
    "    returns:\n",
    "        -  None\n",
    "    '''\n",
    "    # discretization\n",
    "    h = (b - a) / (N + 1)\n",
    "    xs = [a + i * h for i in range(N + 2)]\n",
    "    \n",
    "    # approximate solutions for the n-th snapshot time\n",
    "    u = [u0(x) for x in xs]\n",
    "    v = [v0(x) for x in xs]\n",
    "    \n",
    "    # plots the approximate solution to u over time\n",
    "    plt.ion()\n",
    "    o_g = 0.1\n",
    "    o_c = 0\n",
    "    t = 0\n",
    "    while t < T:\n",
    "        t += tau\n",
    "        if o_g * o_c < t:\n",
    "            clear_output(wait = True)\n",
    "            o_c += 1\n",
    "            plt.plot(xs, u)\n",
    "            plt.ylim(0.75, 2.25)\n",
    "            plt.show()\n",
    "        u, v = step(u, v, tau, N, a, b, c, c_stable)\n",
    "        if reflecting == True:\n",
    "            v[0] = 0\n",
    "            v[-1] = 0"
   ]
  },
  {
   "cell_type": "code",
   "execution_count": 4,
   "id": "a13d6754",
   "metadata": {},
   "outputs": [],
   "source": [
    "def u_example(x):\n",
    "    return 1 + np.exp(-8 * ((x - 2) ** 2))\n",
    "\n",
    "def v_example(x):\n",
    "    return 0"
   ]
  },
  {
   "cell_type": "code",
   "execution_count": 5,
   "id": "e4e6c7e1",
   "metadata": {},
   "outputs": [
    {
     "data": {
      "image/png": "[encoded data removed]",
      "text/plain": [
       "<Figure size 640x480 with 1 Axes>"
      ]
     },
     "metadata": {},
     "output_type": "display_data"
    }
   ],
   "source": [
    "# no stabilization term and no reflecting boundaries\n",
    "a = 0\n",
    "b = 4\n",
    "c = 0.1\n",
    "N = 100\n",
    "h = (b - a) / (N + 1)\n",
    "tau = 0.1 * h\n",
    "T = 50\n",
    "solve(u_example, v_example, tau, T, N, a, b, c)"
   ]
  },
  {
   "cell_type": "code",
   "execution_count": 6,
   "id": "44c036d1",
   "metadata": {},
   "outputs": [
    {
     "data": {
      "image/png": "[encoded data removed]",
      "text/plain": [
       "<Figure size 640x480 with 1 Axes>"
      ]
     },
     "metadata": {},
     "output_type": "display_data"
    }
   ],
   "source": [
    "# stabilization term\n",
    "a = 0\n",
    "b = 4\n",
    "c = 0.1\n",
    "c_stable = 10\n",
    "N = 100\n",
    "h = (b - a) / (N + 1)\n",
    "tau = 0.1 * h\n",
    "T = 50\n",
    "solve(u_example, v_example, tau, T, N, a, b, c, c_stable)"
   ]
  },
  {
   "cell_type": "code",
   "execution_count": 7,
   "id": "0aefdf6e",
   "metadata": {},
   "outputs": [
    {
     "data": {
      "image/png": "[encoded data removed]",
      "text/plain": [
       "<Figure size 640x480 with 1 Axes>"
      ]
     },
     "metadata": {},
     "output_type": "display_data"
    }
   ],
   "source": [
    "# reflecting boundaries\n",
    "a = 0\n",
    "b = 4\n",
    "c = 0.1\n",
    "N = 100\n",
    "h = (b - a) / (N + 1)\n",
    "tau = 0.1 * h\n",
    "T = 50\n",
    "reflecting = True\n",
    "solve(u_example, v_example, tau, T, N, a, b, c, 0, reflecting)"
   ]
  },
  {
   "cell_type": "code",
   "execution_count": 8,
   "id": "4a902611",
   "metadata": {},
   "outputs": [
    {
     "data": {
      "image/png": "[encoded data removed]",
      "text/plain": [
       "<Figure size 640x480 with 1 Axes>"
      ]
     },
     "metadata": {},
     "output_type": "display_data"
    }
   ],
   "source": [
    "# stabilization term and reflecting boundaries\n",
    "a = 0\n",
    "b = 4\n",
    "c = 0.1\n",
    "c_stable = 10\n",
    "N = 100\n",
    "h = (b - a) / (N + 1)\n",
    "tau = 0.1 * h\n",
    "T = 50\n",
    "reflecting = True\n",
    "solve(u_example, v_example, tau, T, N, a, b, c, c_stable, reflecting)"
   ]
  },
  {
   "cell_type": "code",
   "execution_count": 9,
   "id": "ce9e00bb",
   "metadata": {},
   "outputs": [],
   "source": [
    "def step_nonlinear(u_ns, v_ns, tau, N, a, b, c):\n",
    "    '''\n",
    "    Computes one iteration of the forward Euler time-stepping scheme for the nonlinear PDE as a system of\n",
    "    first-order PDEs.\n",
    "    \n",
    "    inputs:\n",
    "        -  u_ns: a list of scalars representing the approximate solution to u for the n-th snapshot time\n",
    "        -  v_ns: a list of scalars representing the approximate solution to v for the n-th snapshot time\n",
    "        -  tau: a positive real number representing the time step size\n",
    "        -  N: a positive integer representing the division of the domain into subintervals\n",
    "        -  a: a scalar representing the left endpoint of the domain\n",
    "        -  b: a scalar representing the right endpoint of the domain\n",
    "        -  c: a scalar representing the wave speed\n",
    "    \n",
    "    returns:\n",
    "        -  a list of scalars representing the approximate solution to u for the (n + 1)-th snapshot time\n",
    "        -  a list of scalars representing the approximate solution to v for the (n + 1)-th snapshot time\n",
    "    '''\n",
    "    # discretization\n",
    "    h = (b - a) / (N + 1)\n",
    "    xs = [a + i * h for i in range(N + 2)]\n",
    "    \n",
    "    # approximate solutions for the n-th snapshot time\n",
    "    u_ns_copy = u_ns.copy()\n",
    "    v_ns_copy = v_ns.copy()\n",
    "    \n",
    "    # approximate solutions for the (n + 1)-th snapshot time\n",
    "    u_np1s = np.zeros(N + 2)\n",
    "    v_np1s = np.zeros(N + 2)\n",
    "    \n",
    "    # advance in time\n",
    "    for i in range(1, N + 1):\n",
    "        u_np1s[i] = u_ns_copy[i] - (tau / (2 * h)) * (v_ns_copy[i + 1] - v_ns_copy[i - 1])\n",
    "        v_np1s[i] = (v_ns_copy[i] - ((tau * (c ** 2)) / (2 * h)) * (u_ns_copy[i + 1] - u_ns_copy[i - 1]) \n",
    "                     * (1 + (u_ns_copy[i + 1] - u_ns_copy[i - 1])) \n",
    "                     * (1 + (1 / 2) * (u_ns_copy[i + 1] - u_ns_copy[i - 1])))\n",
    "    u_np1s[0] = u_ns_copy[0] - (tau / h) * (v_ns_copy[1] - v_ns_copy[0])\n",
    "    v_np1s[0] = (v_ns_copy[0] - ((tau * (c ** 2)) / h) * (u_ns_copy[1] - u_ns_copy[0]) \n",
    "                 * (1 + (u_ns_copy[1] - u_ns_copy[0])) * (1 + (1 / 2) * (u_ns_copy[1] - u_ns_copy[0])))\n",
    "    u_np1s[-1] = u_ns_copy[-1] - (tau / h) * (v_ns_copy[-1] - v_ns_copy[N])\n",
    "    v_np1s[-1] = (v_ns_copy[-1] - ((tau * (c ** 2)) / h) * (u_ns_copy[-1] - u_ns_copy[N]) \n",
    "                  * (1 + (u_ns_copy[-1] - u_ns_copy[N])) * (1 + (1 / 2) * (u_ns_copy[-1] - u_ns_copy[N])))\n",
    "    \n",
    "    return u_np1s, v_np1s"
   ]
  },
  {
   "cell_type": "code",
   "execution_count": 10,
   "id": "d8328baa",
   "metadata": {},
   "outputs": [],
   "source": [
    "def solve_nonlinear(u0, v0, tau, T, N, a, b, c):\n",
    "    '''\n",
    "    Solves the nonlinear PDE as a system of first-order PDEs using the forward Euler time-stepping scheme\n",
    "    with central differences for the interior and one-sided differences for the endpoints.\n",
    "    \n",
    "    inputs:\n",
    "        -  u0: a function that maps from the domain to the real numbers representing the initial condition for u\n",
    "        -  v0: a function that maps from the domain to the real numbers representing the initial condition for v\n",
    "        -  tau: a positive real number representing the time step size\n",
    "        -  T: a positive real number representing the final time\n",
    "        -  N: a positive integer representing the division of the domain into subintervals\n",
    "        -  a: a scalar representing the left endpoint of the domain\n",
    "        -  b: a scalar representing the right endpoint of the domain\n",
    "        -  c: a scalar representing the wave speed\n",
    "    \n",
    "    returns:\n",
    "        -  None\n",
    "    '''\n",
    "    # discretization\n",
    "    h = (b - a) / (N + 1)\n",
    "    xs = [a + i * h for i in range(N + 2)]\n",
    "    \n",
    "    # approximate solutions for the n-th snapshot time\n",
    "    u = [u0(x) for x in xs]\n",
    "    v = [v0(x) for x in xs]\n",
    "    \n",
    "    # plots the approximate solution to u over time\n",
    "    plt.ion()\n",
    "    o_g = 0.1\n",
    "    o_c = 0\n",
    "    t = 0\n",
    "    while t < T:\n",
    "        t += tau\n",
    "        if o_g * o_c < t:\n",
    "            clear_output(wait = True)\n",
    "            o_c += 1\n",
    "            plt.plot(xs, u)\n",
    "            plt.ylim(0.75, 2.25)\n",
    "            plt.show()\n",
    "        u, v = step_nonlinear(u, v, tau, N, a, b, c)"
   ]
  },
  {
   "cell_type": "code",
   "execution_count": 11,
   "id": "e17b0c0a",
   "metadata": {},
   "outputs": [
    {
     "data": {
      "image/png": "[encoded data removed]",
      "text/plain": [
       "<Figure size 640x480 with 1 Axes>"
      ]
     },
     "metadata": {},
     "output_type": "display_data"
    }
   ],
   "source": [
    "a = 0\n",
    "b = 4\n",
    "c = 0.1\n",
    "N = 100\n",
    "h = (b - a) / (N + 1)\n",
    "tau = 0.1 * h\n",
    "T = 20\n",
    "solve_nonlinear(u_example, v_example, tau, T, N, a, b, c)"
   ]
  },
  {
   "cell_type": "code",
   "execution_count": 12,
   "id": "edb7721e",
   "metadata": {},
   "outputs": [],
   "source": [
    "def step_linear_string(u_ns, v_ns, tau, N, a, b, c, c_stable, f):\n",
    "    '''\n",
    "    Computes one iteration of the forward Euler time-stepping scheme for the linear elastic string subject to\n",
    "    gravity as a system of first-order PDEs.\n",
    "    \n",
    "    inputs:\n",
    "        -  u_ns: a list of scalars representing the approximate solution to u for the n-th snapshot time\n",
    "        -  v_ns: a list of scalars representing the approximate solution to v for the n-th snapshot time\n",
    "        -  tau: a positive real number representing the time step size\n",
    "        -  N: a positive integer representing the division of the domain into subintervals\n",
    "        -  a: a scalar representing the left endpoint of the domain\n",
    "        -  b: a scalar representing the right endpoint of the domain\n",
    "        -  c: a scalar representing the wave speed\n",
    "        -  c_stable: a real number between 1 and 32 used in the stabilization term\n",
    "        -  f: a function that maps from the domain to the real numbers involving gravity\n",
    "    \n",
    "    returns:\n",
    "        -  a list of scalars representing the approximate solution to u for the (n + 1)-th snapshot time\n",
    "        -  a list of scalars representing the approximate solution to v for the (n + 1)-th snapshot time\n",
    "    '''\n",
    "    # discretization\n",
    "    h = (b - a) / (N + 1)\n",
    "    xs = [a + i * h for i in range(N + 2)]\n",
    "    \n",
    "    # approximate solutions for the n-th snapshot time\n",
    "    u_ns_copy = u_ns.copy()\n",
    "    v_ns_copy = v_ns.copy()\n",
    "    \n",
    "    # approximate solutions for the (n + 1)-th snapshot time\n",
    "    u_np1s = np.zeros(N + 2)\n",
    "    v_np1s = np.zeros(N + 2)\n",
    "    \n",
    "    # advance in time\n",
    "    for i in range(1, N + 1):\n",
    "        u_np1s[i] = (u_ns_copy[i] - (tau / (2 * h)) * (v_ns_copy[i + 1] - v_ns_copy[i - 1]) \n",
    "                     + tau * c_stable * (u_ns_copy[i + 1] - 2 * u_ns_copy[i] + u_ns_copy[i - 1]))\n",
    "        v_np1s[i] = (v_ns_copy[i] - ((tau * (c ** 2)) / (2 * h)) * (u_ns_copy[i + 1] - u_ns_copy[i - 1]) \n",
    "                     + tau * c_stable * (v_ns_copy[i + 1] - 2 * v_ns_copy[i] + v_ns_copy[i - 1]) + tau * f(xs[i]))\n",
    "    u_np1s[0] = u_ns_copy[0] - (tau / h) * (v_ns_copy[1] - v_ns_copy[0])\n",
    "    v_np1s[0] = v_ns_copy[0] - ((tau * (c ** 2)) / h) * (u_ns_copy[1] - u_ns_copy[0]) + tau * f(xs[0])\n",
    "    u_np1s[-1] = u_ns_copy[-1] - (tau / h) * (v_ns_copy[-1] - v_ns_copy[N])\n",
    "    v_np1s[-1] = v_ns_copy[-1] - ((tau * (c ** 2)) / h) * (u_ns_copy[-1] - u_ns_copy[N]) + tau * f(xs[-1])\n",
    "    \n",
    "    return u_np1s, v_np1s"
   ]
  },
  {
   "cell_type": "code",
   "execution_count": 13,
   "id": "58315aa4",
   "metadata": {},
   "outputs": [],
   "source": [
    "def step_nonlinear_string(u_ns, v_ns, tau, N, a, b, c, c_stable, f):\n",
    "    '''\n",
    "    Computes one iteration of the forward Euler time-stepping scheme for the nonlinear elastic string subject to\n",
    "    gravity as a system of first-order PDEs.\n",
    "    \n",
    "    inputs:\n",
    "        -  u_ns: a list of scalars representing the approximate solution to u for the n-th snapshot time\n",
    "        -  v_ns: a list of scalars representing the approximate solution to v for the n-th snapshot time\n",
    "        -  tau: a positive real number representing the time step size\n",
    "        -  N: a positive integer representing the division of the domain into subintervals\n",
    "        -  a: a scalar representing the left endpoint of the domain\n",
    "        -  b: a scalar representing the right endpoint of the domain\n",
    "        -  c: a scalar representing the wave speed\n",
    "        -  c_stable: a real number between 1 and 32 used in the stabilization term\n",
    "        -  f: a function that maps from the domain to the real numbers involving gravity\n",
    "    \n",
    "    returns:\n",
    "        -  a list of scalars representing the approximate solution to u for the (n + 1)-th snapshot time\n",
    "        -  a list of scalars representing the approximate solution to v for the (n + 1)-th snapshot time\n",
    "    '''\n",
    "    # discretization\n",
    "    h = (b - a) / (N + 1)\n",
    "    xs = [a + i * h for i in range(N + 2)]\n",
    "    \n",
    "    # approximate solutions for the n-th snapshot time\n",
    "    u_ns_copy = u_ns.copy()\n",
    "    v_ns_copy = v_ns.copy()\n",
    "    \n",
    "    # approximate solutions for the (n + 1)-th snapshot time\n",
    "    u_np1s = np.zeros(N + 2)\n",
    "    v_np1s = np.zeros(N + 2)\n",
    "    \n",
    "    # advance in time\n",
    "    for i in range(1, N + 1):\n",
    "        u_np1s[i] = (u_ns_copy[i] - (tau / (2 * h)) * (v_ns_copy[i + 1] - v_ns_copy[i - 1]) \n",
    "                     + tau * c_stable * (u_ns_copy[i + 1] - 2 * u_ns_copy[i] + u_ns_copy[i - 1]))\n",
    "        v_np1s[i] = (v_ns_copy[i] - ((tau * (c ** 2)) / (2 * h)) * (u_ns_copy[i + 1] - u_ns_copy[i - 1]) \n",
    "                     * (1 + (u_ns_copy[i + 1] - u_ns_copy[i - 1])) \n",
    "                     * (1 + (1 / 2) * (u_ns_copy[i + 1] - u_ns_copy[i - 1]))\n",
    "                     + tau * c_stable * (v_ns_copy[i + 1] - 2 * v_ns_copy[i] + v_ns_copy[i - 1]) + tau * f(xs[i]))\n",
    "    u_np1s[0] = u_ns_copy[0] - (tau / h) * (v_ns_copy[1] - v_ns_copy[0])\n",
    "    v_np1s[0] = (v_ns_copy[0] - ((tau * (c ** 2)) / h) * (u_ns_copy[1] - u_ns_copy[0]) \n",
    "                 * (1 + (u_ns_copy[1] - u_ns_copy[0])) * (1 + (1 / 2) * (u_ns_copy[1] - u_ns_copy[0]))\n",
    "                 + tau * f(xs[0]))\n",
    "    u_np1s[-1] = u_ns_copy[-1] - (tau / h) * (v_ns_copy[-1] - v_ns_copy[N])\n",
    "    v_np1s[-1] = (v_ns_copy[-1] - ((tau * (c ** 2)) / h) * (u_ns_copy[-1] - u_ns_copy[N]) \n",
    "                  * (1 + (u_ns_copy[-1] - u_ns_copy[N])) * (1 + (1 / 2) * (u_ns_copy[-1] - u_ns_copy[N]))\n",
    "                  + tau * f(xs[-1]))\n",
    "    \n",
    "    return u_np1s, v_np1s"
   ]
  },
  {
   "cell_type": "code",
   "execution_count": 23,
   "id": "88cf3f29",
   "metadata": {},
   "outputs": [],
   "source": [
    "def solve_string(tau, T, N, a, b, c, c_stable, f):\n",
    "    '''\n",
    "    Solves the linear and nonlinear elastic strings subject to gravity as systems of first-order PDEs using the\n",
    "    forward Euler time-stepping scheme with central differences for the interior and one-sided differences\n",
    "    for the endpoints.\n",
    "    \n",
    "    inputs:\n",
    "        -  tau: a positive real number representing the time step size\n",
    "        -  T: a positive real number representing the final time\n",
    "        -  N: a positive integer representing the division of the domain into subintervals\n",
    "        -  a: a scalar representing the left endpoint of the domain\n",
    "        -  b: a scalar representing the right endpoint of the domain\n",
    "        -  c: a scalar representing the wave speed\n",
    "        -  c_stable: a real number between 1 and 32 used in the stabilization term\n",
    "        -  f: a function that maps from the domain to the real numbers involving gravity\n",
    "    \n",
    "    returns:\n",
    "        -  None\n",
    "    '''\n",
    "    # discretization\n",
    "    h = (b - a) / (N + 1)\n",
    "    xs = [a + i * h for i in range(N + 2)]\n",
    "    \n",
    "    # approximate solutions for the n-th snapshot time\n",
    "    u_linear = np.zeros(N + 2)\n",
    "    v_linear = np.zeros(N + 2)\n",
    "    u_nonlinear = np.zeros(N + 2)\n",
    "    v_nonlinear = np.zeros(N + 2)\n",
    "    \n",
    "    # plots the approximate solution to u over time\n",
    "    plt.ion()\n",
    "    o_g = 0.1\n",
    "    o_c = 0\n",
    "    t = 0\n",
    "    while t < T:\n",
    "        t += tau\n",
    "        if o_g * o_c < t:\n",
    "            clear_output(wait = True)\n",
    "            o_c += 1\n",
    "            plt.plot(xs, u_linear, label = 'Linear')\n",
    "            plt.plot(xs, u_nonlinear, label = 'Nonlinear')\n",
    "            plt.ylim(0, 0.11)\n",
    "            plt.legend(loc = 'upper left')\n",
    "            plt.show()\n",
    "        u_linear, v_linear = step_linear_string(u_linear, v_linear, tau, N, a, b, c, c_stable, f)\n",
    "        u_nonlinear, v_nonlinear = step_nonlinear_string(u_nonlinear, v_nonlinear, tau, N, a, b, c, c_stable, f)\n",
    "        u_linear[0] = 0\n",
    "        u_linear[-1] = u_linear[-2]\n",
    "        u_nonlinear[0] = 0\n",
    "        u_nonlinear[-1] = u_nonlinear[-2]"
   ]
  },
  {
   "cell_type": "code",
   "execution_count": 24,
   "id": "fb53f8f1",
   "metadata": {},
   "outputs": [],
   "source": [
    "def f_example(x):\n",
    "    return -0.1 * x - (1 / 2)"
   ]
  },
  {
   "cell_type": "code",
   "execution_count": 25,
   "id": "abbed13d",
   "metadata": {},
   "outputs": [
    {
     "data": {
      "image/png": "[encoded data removed]",
      "text/plain": [
       "<Figure size 640x480 with 1 Axes>"
      ]
     },
     "metadata": {},
     "output_type": "display_data"
    }
   ],
   "source": [
    "a = 0\n",
    "b = 1\n",
    "c = 1\n",
    "c_stable = 16\n",
    "N = 100\n",
    "h = (b - a) / (N + 1)\n",
    "tau = 0.1 * h\n",
    "T = 20\n",
    "solve_string(tau, T, N, a, b, c, c_stable, f_example)"
   ]
  }
 ],
 "metadata": {
  "kernelspec": {
   "display_name": "Python 3 (ipykernel)",
   "language": "python",
   "name": "python3"
  },
  "language_info": {
   "codemirror_mode": {
    "name": "ipython",
    "version": 3
   },
   "file_extension": ".py",
   "mimetype": "text/x-python",
   "name": "python",
   "nbconvert_exporter": "python",
   "pygments_lexer": "ipython3",
   "version": "3.11.4"
  }
 },
 "nbformat": 4,
 "nbformat_minor": 5
}
